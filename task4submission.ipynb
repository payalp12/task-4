{
 "cells": [
  {
   "cell_type": "code",
   "execution_count": 31,
   "id": "c365aa6b",
   "metadata": {},
   "outputs": [],
   "source": [
    "import cv2\n",
    "import numpy"
   ]
  },
  {
   "cell_type": "code",
   "execution_count": 32,
   "id": "4fa4dbdd",
   "metadata": {},
   "outputs": [],
   "source": [
    "picture=numpy.zeros((400,400,3))"
   ]
  },
  {
   "cell_type": "code",
   "execution_count": 33,
   "id": "e3594ea0",
   "metadata": {},
   "outputs": [],
   "source": [
    "picture[10:100,10:100]=[0,0,255]\n",
    "picture[110:200,100:200]=[255,0,0]\n",
    "picture[210:300,200:300]=[255,0,0]\n",
    "picture[310:400,300:400]=[0,0,255]\n",
    "picture[10:100,300:400]=[255,0,0]\n",
    "picture[110:200,200:300]=[0,0,255]\n",
    "picture[210:300,100:200]=[0,0,255]\n",
    "picture[310:400,10:100]=[255,0,0]"
   ]
  },
  {
   "cell_type": "code",
   "execution_count": 34,
   "id": "845433dc",
   "metadata": {},
   "outputs": [],
   "source": [
    "cv2.imshow(\"hi\",picture)\n",
    "cv2.waitKey()\n",
    "cv2.destroyAllWindows()"
   ]
  },
  {
   "cell_type": "code",
   "execution_count": 35,
   "id": "e7ab125f",
   "metadata": {},
   "outputs": [],
   "source": [
    "po1=cv2.imread(\"v.jpg\")"
   ]
  },
  {
   "cell_type": "code",
   "execution_count": 36,
   "id": "b6e8361f",
   "metadata": {},
   "outputs": [],
   "source": [
    "cv2.imshow(\"hi\",po1)\n",
    "cv2.waitKey()\n",
    "cv2.destroyAllWindows()"
   ]
  },
  {
   "cell_type": "code",
   "execution_count": 37,
   "id": "49a5fb6f",
   "metadata": {},
   "outputs": [],
   "source": [
    "photo=cv2.imread(\"jn1.jpg\")"
   ]
  },
  {
   "cell_type": "code",
   "execution_count": 38,
   "id": "240f866a",
   "metadata": {},
   "outputs": [],
   "source": [
    "cv2.imshow(\"hi\",photo)\n",
    "cv2.waitKey()\n",
    "cv2.destroyAllWindows()"
   ]
  },
  {
   "cell_type": "code",
   "execution_count": 39,
   "id": "459e1827",
   "metadata": {},
   "outputs": [],
   "source": [
    "import numpy"
   ]
  },
  {
   "cell_type": "code",
   "execution_count": 40,
   "id": "00cbb38e",
   "metadata": {},
   "outputs": [],
   "source": [
    "pic3=numpy.hstack((po1,photo))"
   ]
  },
  {
   "cell_type": "code",
   "execution_count": 41,
   "id": "685e6a08",
   "metadata": {},
   "outputs": [],
   "source": [
    "cv2.imshow(\"hi\",pic3)\n",
    "cv2.waitKey()\n",
    "cv2.destroyAllWindows()"
   ]
  },
  {
   "cell_type": "code",
   "execution_count": 42,
   "id": "0a361710",
   "metadata": {},
   "outputs": [],
   "source": [
    "im1=cv2.imread(\"monica.jpg\")"
   ]
  },
  {
   "cell_type": "code",
   "execution_count": 43,
   "id": "0a4c0566",
   "metadata": {},
   "outputs": [],
   "source": [
    "cv2.imshow(\"hi\",im1)\n",
    "cv2.waitKey()\n",
    "cv2.destroyAllWindows()"
   ]
  },
  {
   "cell_type": "code",
   "execution_count": 44,
   "id": "8c605727",
   "metadata": {},
   "outputs": [],
   "source": [
    "im2=cv2.imread(\"chand1.jpg\")"
   ]
  },
  {
   "cell_type": "code",
   "execution_count": 45,
   "id": "24614c7c",
   "metadata": {},
   "outputs": [],
   "source": [
    "cv2.imshow(\"hi\",im2)\n",
    "cv2.waitKey()\n",
    "cv2.destroyAllWindows()"
   ]
  },
  {
   "cell_type": "code",
   "execution_count": 46,
   "id": "2bd58b0d",
   "metadata": {},
   "outputs": [],
   "source": [
    "i1=im1[50:150,50:200]"
   ]
  },
  {
   "cell_type": "code",
   "execution_count": 47,
   "id": "c9c26525",
   "metadata": {},
   "outputs": [],
   "source": [
    "i2=im2[50:150,50:200]"
   ]
  },
  {
   "cell_type": "code",
   "execution_count": 48,
   "id": "09598612",
   "metadata": {},
   "outputs": [],
   "source": [
    "im2[50:150,50:200]=i1\n"
   ]
  },
  {
   "cell_type": "code",
   "execution_count": 49,
   "id": "4e72ea23",
   "metadata": {},
   "outputs": [],
   "source": [
    "cv2.imshow(\"hi\",im2)\n",
    "cv2.waitKey()\n",
    "cv2.destroyAllWindows()"
   ]
  },
  {
   "cell_type": "code",
   "execution_count": 50,
   "id": "08ccecdd",
   "metadata": {},
   "outputs": [],
   "source": [
    "n=cv2.imread(\"monica.jpg\")\n",
    "m=cv2.imread(\"chand1.jpg\")\n",
    "n1=n[50:150,50:200]\n",
    "m1=m[50:150,50:200]"
   ]
  },
  {
   "cell_type": "code",
   "execution_count": 51,
   "id": "bb2d0192",
   "metadata": {},
   "outputs": [],
   "source": [
    "n[50:150,50:200]=m1"
   ]
  },
  {
   "cell_type": "code",
   "execution_count": 52,
   "id": "c1aa96d3",
   "metadata": {},
   "outputs": [],
   "source": [
    "cv2.imshow(\"hi\",n)\n",
    "cv2.waitKey()\n",
    "cv2.destroyAllWindows()"
   ]
  },
  {
   "cell_type": "code",
   "execution_count": null,
   "id": "07afec8c",
   "metadata": {},
   "outputs": [],
   "source": []
  }
 ],
 "metadata": {
  "kernelspec": {
   "display_name": "Python 3",
   "language": "python",
   "name": "python3"
  },
  "language_info": {
   "codemirror_mode": {
    "name": "ipython",
    "version": 3
   },
   "file_extension": ".py",
   "mimetype": "text/x-python",
   "name": "python",
   "nbconvert_exporter": "python",
   "pygments_lexer": "ipython3",
   "version": "3.8.8"
  }
 },
 "nbformat": 4,
 "nbformat_minor": 5
}
